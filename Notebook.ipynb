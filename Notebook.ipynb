{
 "cells": [
  {
   "cell_type": "code",
   "execution_count": 1,
   "metadata": {
    "collapsed": true
   },
   "outputs": [],
   "source": [
    "%matplotlib inline"
   ]
  },
  {
   "cell_type": "code",
   "execution_count": 113,
   "metadata": {
    "collapsed": true
   },
   "outputs": [],
   "source": [
    "import numpy as np\n",
    "import pandas as pd"
   ]
  },
  {
   "cell_type": "code",
   "execution_count": 114,
   "metadata": {
    "collapsed": true
   },
   "outputs": [],
   "source": [
    "data=pd.read_csv(\"final\\OCDEfinal4.csv\")"
   ]
  },
  {
   "cell_type": "code",
   "execution_count": 115,
   "metadata": {
    "collapsed": false
   },
   "outputs": [
    {
     "data": {
      "text/html": [
       "<div>\n",
       "<table border=\"1\" class=\"dataframe\">\n",
       "  <thead>\n",
       "    <tr style=\"text-align: right;\">\n",
       "      <th></th>\n",
       "      <th>country</th>\n",
       "      <th>location</th>\n",
       "      <th>public_spendingPRY_NTRY2013</th>\n",
       "      <th>public_spendingPRY_TRY2013</th>\n",
       "      <th>public_spendingTRY2013</th>\n",
       "      <th>private_spendingPRY_NTRY2012</th>\n",
       "      <th>private_spendingPRY_NTRY2013</th>\n",
       "      <th>private_spendingPRY_NTRY2014</th>\n",
       "      <th>private_spendingPRY_TRY2012</th>\n",
       "      <th>private_spendingPRY_TRY2013</th>\n",
       "      <th>...</th>\n",
       "      <th>vT021</th>\n",
       "      <th>vT022</th>\n",
       "      <th>vT023</th>\n",
       "      <th>vT024</th>\n",
       "      <th>vT025</th>\n",
       "      <th>vT026</th>\n",
       "      <th>vT027</th>\n",
       "      <th>vT028</th>\n",
       "      <th>valueLOWSRY_AVGAGE</th>\n",
       "      <th>valueLOWSRY_WORK</th>\n",
       "    </tr>\n",
       "  </thead>\n",
       "  <tbody>\n",
       "    <tr>\n",
       "      <th>0</th>\n",
       "      <td>Australia</td>\n",
       "      <td>AUS</td>\n",
       "      <td>3.4</td>\n",
       "      <td>4.7</td>\n",
       "      <td>1.3</td>\n",
       "      <td>4.0</td>\n",
       "      <td>3.9</td>\n",
       "      <td>NaN</td>\n",
       "      <td>5.6</td>\n",
       "      <td>5.6</td>\n",
       "      <td>...</td>\n",
       "      <td>5.1</td>\n",
       "      <td>7.0</td>\n",
       "      <td>14.5</td>\n",
       "      <td>78.1</td>\n",
       "      <td>81.3</td>\n",
       "      <td>78.4</td>\n",
       "      <td>38.5</td>\n",
       "      <td>90.0</td>\n",
       "      <td>43.4</td>\n",
       "      <td>16.7</td>\n",
       "    </tr>\n",
       "    <tr>\n",
       "      <th>1</th>\n",
       "      <td>Austria</td>\n",
       "      <td>AUT</td>\n",
       "      <td>3.2</td>\n",
       "      <td>5.0</td>\n",
       "      <td>1.8</td>\n",
       "      <td>3.1</td>\n",
       "      <td>3.2</td>\n",
       "      <td>NaN</td>\n",
       "      <td>4.9</td>\n",
       "      <td>5.0</td>\n",
       "      <td>...</td>\n",
       "      <td>NaN</td>\n",
       "      <td>NaN</td>\n",
       "      <td>NaN</td>\n",
       "      <td>NaN</td>\n",
       "      <td>NaN</td>\n",
       "      <td>NaN</td>\n",
       "      <td>NaN</td>\n",
       "      <td>NaN</td>\n",
       "      <td>NaN</td>\n",
       "      <td>NaN</td>\n",
       "    </tr>\n",
       "    <tr>\n",
       "      <th>2</th>\n",
       "      <td>Belgium</td>\n",
       "      <td>BEL</td>\n",
       "      <td>4.3</td>\n",
       "      <td>5.8</td>\n",
       "      <td>1.4</td>\n",
       "      <td>4.3</td>\n",
       "      <td>4.4</td>\n",
       "      <td>NaN</td>\n",
       "      <td>5.7</td>\n",
       "      <td>5.8</td>\n",
       "      <td>...</td>\n",
       "      <td>NaN</td>\n",
       "      <td>NaN</td>\n",
       "      <td>NaN</td>\n",
       "      <td>NaN</td>\n",
       "      <td>NaN</td>\n",
       "      <td>NaN</td>\n",
       "      <td>NaN</td>\n",
       "      <td>NaN</td>\n",
       "      <td>NaN</td>\n",
       "      <td>NaN</td>\n",
       "    </tr>\n",
       "    <tr>\n",
       "      <th>3</th>\n",
       "      <td>Brazil</td>\n",
       "      <td>BRA</td>\n",
       "      <td>4.4</td>\n",
       "      <td>5.5</td>\n",
       "      <td>1.1</td>\n",
       "      <td>4.3</td>\n",
       "      <td>4.3</td>\n",
       "      <td>NaN</td>\n",
       "      <td>5.1</td>\n",
       "      <td>5.2</td>\n",
       "      <td>...</td>\n",
       "      <td>5.7</td>\n",
       "      <td>12.2</td>\n",
       "      <td>19.8</td>\n",
       "      <td>66.7</td>\n",
       "      <td>94.8</td>\n",
       "      <td>95.1</td>\n",
       "      <td>12.6</td>\n",
       "      <td>87.0</td>\n",
       "      <td>39.2</td>\n",
       "      <td>13.6</td>\n",
       "    </tr>\n",
       "    <tr>\n",
       "      <th>4</th>\n",
       "      <td>Canada</td>\n",
       "      <td>CAN</td>\n",
       "      <td>NaN</td>\n",
       "      <td>NaN</td>\n",
       "      <td>NaN</td>\n",
       "      <td>3.6</td>\n",
       "      <td>NaN</td>\n",
       "      <td>NaN</td>\n",
       "      <td>6.1</td>\n",
       "      <td>NaN</td>\n",
       "      <td>...</td>\n",
       "      <td>NaN</td>\n",
       "      <td>NaN</td>\n",
       "      <td>NaN</td>\n",
       "      <td>NaN</td>\n",
       "      <td>NaN</td>\n",
       "      <td>NaN</td>\n",
       "      <td>NaN</td>\n",
       "      <td>NaN</td>\n",
       "      <td>NaN</td>\n",
       "      <td>NaN</td>\n",
       "    </tr>\n",
       "    <tr>\n",
       "      <th>5</th>\n",
       "      <td>Switzerland</td>\n",
       "      <td>CHE</td>\n",
       "      <td>3.5</td>\n",
       "      <td>4.8</td>\n",
       "      <td>1.3</td>\n",
       "      <td>3.8</td>\n",
       "      <td>NaN</td>\n",
       "      <td>NaN</td>\n",
       "      <td>5.1</td>\n",
       "      <td>5.1</td>\n",
       "      <td>...</td>\n",
       "      <td>NaN</td>\n",
       "      <td>NaN</td>\n",
       "      <td>NaN</td>\n",
       "      <td>NaN</td>\n",
       "      <td>NaN</td>\n",
       "      <td>NaN</td>\n",
       "      <td>NaN</td>\n",
       "      <td>NaN</td>\n",
       "      <td>NaN</td>\n",
       "      <td>NaN</td>\n",
       "    </tr>\n",
       "    <tr>\n",
       "      <th>6</th>\n",
       "      <td>Chile</td>\n",
       "      <td>CHL</td>\n",
       "      <td>2.7</td>\n",
       "      <td>3.8</td>\n",
       "      <td>1.2</td>\n",
       "      <td>3.6</td>\n",
       "      <td>3.4</td>\n",
       "      <td>3.1</td>\n",
       "      <td>6.1</td>\n",
       "      <td>5.8</td>\n",
       "      <td>...</td>\n",
       "      <td>4.1</td>\n",
       "      <td>10.8</td>\n",
       "      <td>15.3</td>\n",
       "      <td>73.1</td>\n",
       "      <td>91.0</td>\n",
       "      <td>90.2</td>\n",
       "      <td>33.6</td>\n",
       "      <td>94.6</td>\n",
       "      <td>41.3</td>\n",
       "      <td>15.1</td>\n",
       "    </tr>\n",
       "    <tr>\n",
       "      <th>7</th>\n",
       "      <td>Colombia</td>\n",
       "      <td>COL</td>\n",
       "      <td>NaN</td>\n",
       "      <td>NaN</td>\n",
       "      <td>NaN</td>\n",
       "      <td>0.7</td>\n",
       "      <td>4.3</td>\n",
       "      <td>NaN</td>\n",
       "      <td>2.6</td>\n",
       "      <td>6.6</td>\n",
       "      <td>...</td>\n",
       "      <td>NaN</td>\n",
       "      <td>NaN</td>\n",
       "      <td>NaN</td>\n",
       "      <td>NaN</td>\n",
       "      <td>NaN</td>\n",
       "      <td>NaN</td>\n",
       "      <td>NaN</td>\n",
       "      <td>NaN</td>\n",
       "      <td>NaN</td>\n",
       "      <td>NaN</td>\n",
       "    </tr>\n",
       "    <tr>\n",
       "      <th>8</th>\n",
       "      <td>Czech Republic</td>\n",
       "      <td>CZE</td>\n",
       "      <td>2.5</td>\n",
       "      <td>3.4</td>\n",
       "      <td>0.9</td>\n",
       "      <td>2.8</td>\n",
       "      <td>2.7</td>\n",
       "      <td>NaN</td>\n",
       "      <td>4.2</td>\n",
       "      <td>4.0</td>\n",
       "      <td>...</td>\n",
       "      <td>4.5</td>\n",
       "      <td>6.6</td>\n",
       "      <td>8.8</td>\n",
       "      <td>84.0</td>\n",
       "      <td>39.0</td>\n",
       "      <td>51.8</td>\n",
       "      <td>12.2</td>\n",
       "      <td>88.6</td>\n",
       "      <td>44.2</td>\n",
       "      <td>17.7</td>\n",
       "    </tr>\n",
       "    <tr>\n",
       "      <th>9</th>\n",
       "      <td>Germany</td>\n",
       "      <td>DEU</td>\n",
       "      <td>2.9</td>\n",
       "      <td>4.2</td>\n",
       "      <td>1.3</td>\n",
       "      <td>3.1</td>\n",
       "      <td>3.1</td>\n",
       "      <td>NaN</td>\n",
       "      <td>4.4</td>\n",
       "      <td>4.3</td>\n",
       "      <td>...</td>\n",
       "      <td>NaN</td>\n",
       "      <td>NaN</td>\n",
       "      <td>NaN</td>\n",
       "      <td>NaN</td>\n",
       "      <td>NaN</td>\n",
       "      <td>NaN</td>\n",
       "      <td>NaN</td>\n",
       "      <td>NaN</td>\n",
       "      <td>NaN</td>\n",
       "      <td>NaN</td>\n",
       "    </tr>\n",
       "  </tbody>\n",
       "</table>\n",
       "<p>10 rows × 279 columns</p>\n",
       "</div>"
      ],
      "text/plain": [
       "          country location  public_spendingPRY_NTRY2013  \\\n",
       "0       Australia      AUS                          3.4   \n",
       "1         Austria      AUT                          3.2   \n",
       "2         Belgium      BEL                          4.3   \n",
       "3          Brazil      BRA                          4.4   \n",
       "4          Canada      CAN                          NaN   \n",
       "5     Switzerland      CHE                          3.5   \n",
       "6           Chile      CHL                          2.7   \n",
       "7        Colombia      COL                          NaN   \n",
       "8  Czech Republic      CZE                          2.5   \n",
       "9         Germany      DEU                          2.9   \n",
       "\n",
       "   public_spendingPRY_TRY2013  public_spendingTRY2013  \\\n",
       "0                         4.7                     1.3   \n",
       "1                         5.0                     1.8   \n",
       "2                         5.8                     1.4   \n",
       "3                         5.5                     1.1   \n",
       "4                         NaN                     NaN   \n",
       "5                         4.8                     1.3   \n",
       "6                         3.8                     1.2   \n",
       "7                         NaN                     NaN   \n",
       "8                         3.4                     0.9   \n",
       "9                         4.2                     1.3   \n",
       "\n",
       "   private_spendingPRY_NTRY2012  private_spendingPRY_NTRY2013  \\\n",
       "0                           4.0                           3.9   \n",
       "1                           3.1                           3.2   \n",
       "2                           4.3                           4.4   \n",
       "3                           4.3                           4.3   \n",
       "4                           3.6                           NaN   \n",
       "5                           3.8                           NaN   \n",
       "6                           3.6                           3.4   \n",
       "7                           0.7                           4.3   \n",
       "8                           2.8                           2.7   \n",
       "9                           3.1                           3.1   \n",
       "\n",
       "   private_spendingPRY_NTRY2014  private_spendingPRY_TRY2012  \\\n",
       "0                           NaN                          5.6   \n",
       "1                           NaN                          4.9   \n",
       "2                           NaN                          5.7   \n",
       "3                           NaN                          5.1   \n",
       "4                           NaN                          6.1   \n",
       "5                           NaN                          5.1   \n",
       "6                           3.1                          6.1   \n",
       "7                           NaN                          2.6   \n",
       "8                           NaN                          4.2   \n",
       "9                           NaN                          4.4   \n",
       "\n",
       "   private_spendingPRY_TRY2013        ...         vT021  vT022  vT023  vT024  \\\n",
       "0                          5.6        ...           5.1    7.0   14.5   78.1   \n",
       "1                          5.0        ...           NaN    NaN    NaN    NaN   \n",
       "2                          5.8        ...           NaN    NaN    NaN    NaN   \n",
       "3                          5.2        ...           5.7   12.2   19.8   66.7   \n",
       "4                          NaN        ...           NaN    NaN    NaN    NaN   \n",
       "5                          5.1        ...           NaN    NaN    NaN    NaN   \n",
       "6                          5.8        ...           4.1   10.8   15.3   73.1   \n",
       "7                          6.6        ...           NaN    NaN    NaN    NaN   \n",
       "8                          4.0        ...           4.5    6.6    8.8   84.0   \n",
       "9                          4.3        ...           NaN    NaN    NaN    NaN   \n",
       "\n",
       "   vT025  vT026  vT027  vT028  valueLOWSRY_AVGAGE  valueLOWSRY_WORK  \n",
       "0   81.3   78.4   38.5   90.0                43.4              16.7  \n",
       "1    NaN    NaN    NaN    NaN                 NaN               NaN  \n",
       "2    NaN    NaN    NaN    NaN                 NaN               NaN  \n",
       "3   94.8   95.1   12.6   87.0                39.2              13.6  \n",
       "4    NaN    NaN    NaN    NaN                 NaN               NaN  \n",
       "5    NaN    NaN    NaN    NaN                 NaN               NaN  \n",
       "6   91.0   90.2   33.6   94.6                41.3              15.1  \n",
       "7    NaN    NaN    NaN    NaN                 NaN               NaN  \n",
       "8   39.0   51.8   12.2   88.6                44.2              17.7  \n",
       "9    NaN    NaN    NaN    NaN                 NaN               NaN  \n",
       "\n",
       "[10 rows x 279 columns]"
      ]
     },
     "execution_count": 115,
     "metadata": {},
     "output_type": "execute_result"
    }
   ],
   "source": [
    "data.head(10)"
   ]
  },
  {
   "cell_type": "code",
   "execution_count": 116,
   "metadata": {
    "collapsed": true
   },
   "outputs": [],
   "source": [
    "cols = data.columns"
   ]
  },
  {
   "cell_type": "code",
   "execution_count": 117,
   "metadata": {
    "collapsed": false
   },
   "outputs": [],
   "source": [
    "mask_GINI = np.array(['GINI' in cols[i] for i in range(len(cols))])"
   ]
  },
  {
   "cell_type": "code",
   "execution_count": 118,
   "metadata": {
    "collapsed": false
   },
   "outputs": [],
   "source": [
    "cols_GINI = cols[mask_GINI]"
   ]
  },
  {
   "cell_type": "code",
   "execution_count": 119,
   "metadata": {
    "collapsed": true
   },
   "outputs": [],
   "source": [
    "data['last_GINI'] = np.zeros(shape=40)"
   ]
  },
  {
   "cell_type": "code",
   "execution_count": 120,
   "metadata": {
    "collapsed": true
   },
   "outputs": [],
   "source": [
    "def last_not_nan(nparray):\n",
    "    #print(nparray)\n",
    "    for i in nparray[::-1]:\n",
    "        #print(i)\n",
    "        if not(np.isnan(i)):\n",
    "            return i\n",
    "    return np.nan"
   ]
  },
  {
   "cell_type": "code",
   "execution_count": 121,
   "metadata": {
    "collapsed": false
   },
   "outputs": [],
   "source": [
    "for idx in data.index:\n",
    "    data.loc[data.index==idx, 'last_GINI'] = last_not_nan(np.array(data.loc[data.index==idx][cols_GINI])[0])"
   ]
  },
  {
   "cell_type": "code",
   "execution_count": 122,
   "metadata": {
    "collapsed": false
   },
   "outputs": [
    {
     "data": {
      "text/plain": [
       "0     0.337\n",
       "1     0.280\n",
       "2     0.268\n",
       "3       NaN\n",
       "4     0.322\n",
       "5     0.295\n",
       "6     0.465\n",
       "7       NaN\n",
       "8     0.262\n",
       "9     0.292\n",
       "10    0.254\n",
       "11    0.346\n",
       "12    0.361\n",
       "13    0.257\n",
       "14    0.294\n",
       "15    0.358\n",
       "16    0.343\n",
       "17    0.288\n",
       "18      NaN\n",
       "19    0.309\n",
       "20    0.244\n",
       "21    0.365\n",
       "22    0.325\n",
       "23    0.330\n",
       "24    0.302\n",
       "25    0.281\n",
       "26    0.352\n",
       "27    0.459\n",
       "28    0.283\n",
       "29    0.252\n",
       "30    0.333\n",
       "31      NaN\n",
       "32    0.300\n",
       "33    0.342\n",
       "34      NaN\n",
       "35    0.269\n",
       "36    0.255\n",
       "37    0.281\n",
       "38    0.393\n",
       "39    0.394\n",
       "Name: last_GINI, dtype: float64"
      ]
     },
     "execution_count": 122,
     "metadata": {},
     "output_type": "execute_result"
    }
   ],
   "source": [
    "data['last_GINI']"
   ]
  },
  {
   "cell_type": "code",
   "execution_count": 123,
   "metadata": {
    "collapsed": true
   },
   "outputs": [],
   "source": [
    "data.to_csv('OCDE_final_withGINI.csv')"
   ]
  },
  {
   "cell_type": "code",
   "execution_count": null,
   "metadata": {
    "collapsed": true
   },
   "outputs": [],
   "source": []
  },
  {
   "cell_type": "code",
   "execution_count": 2,
   "metadata": {
    "collapsed": true
   },
   "outputs": [],
   "source": [
    "import pandas as pd\n",
    "import matplotlib.pyplot as plt\n",
    "DB=pd.read_csv(\"OCDEfinal4_newcols.csv\", index_col=0, sep=\";\")\n",
    "DB.head(1)\n",
    "DB.index=DB['location']\n",
    "DBTalis=DB.ix[:,len(DB.columns)-31:len(DB.columns)-2]\n",
    "DBTalis.head(1)\n",
    "DBTalis.index=DB['location']"
   ]
  },
  {
   "cell_type": "code",
   "execution_count": 3,
   "metadata": {
    "collapsed": false
   },
   "outputs": [
    {
     "data": {
      "image/png": "[encoded data removed]",
      "text/plain": [
       "<matplotlib.figure.Figure at 0x252d6ba89b0>"
      ]
     },
     "metadata": {},
     "output_type": "display_data"
    }
   ],
   "source": [
    "DBPisa=DB['reading2015']\n",
    "\n",
    "plt.plot(DBTalis['vTBelieveHelpStudentsThinkCritic'],DB['science2015'], \"bo\")\n",
    "plt.show()"
   ]
  },
  {
   "cell_type": "code",
   "execution_count": 4,
   "metadata": {
    "collapsed": false
   },
   "outputs": [
    {
     "data": {
      "text/plain": [
       "[<matplotlib.lines.Line2D at 0x252d96c8cc0>]"
      ]
     },
     "execution_count": 4,
     "metadata": {},
     "output_type": "execute_result"
    },
    {
     "data": {
      "image/png": "[encoded data removed]",
      "text/plain": [
       "<matplotlib.figure.Figure at 0x252d84dcc88>"
      ]
     },
     "metadata": {},
     "output_type": "display_data"
    }
   ],
   "source": [
    "plt.plot(DBTalis['vTFB2'],DB['science2015'], \"bo\")\n"
   ]
  },
  {
   "cell_type": "code",
   "execution_count": 5,
   "metadata": {
    "collapsed": false
   },
   "outputs": [
    {
     "data": {
      "image/png": "[encoded data removed]",
      "text/plain": [
       "<matplotlib.figure.Figure at 0x252d9695c18>"
      ]
     },
     "metadata": {},
     "output_type": "display_data"
    }
   ],
   "source": [
    "fig, ax = plt.subplots()\n",
    "plt.plot(DBTalis['vTFB2'], DB['science2015'], \"bo\")\n",
    "index=pd.DataFrame(DBTalis['vTFB2'].index)\n",
    "for i, index in enumerate(index.values):\n",
    "    ax.annotate(index[0], (DBTalis['vTFB2'].iloc[i],DB['science2015'].iloc[i]))\n",
    " \n"
   ]
  },
  {
   "cell_type": "code",
   "execution_count": 41,
   "metadata": {
    "collapsed": true
   },
   "outputs": [],
   "source": [
    "from sklearn.preprocessing import StandardScaler\n",
    "from sklearn.decomposition import PCA as sklearnPCA\n",
    "import numpy as np"
   ]
  },
  {
   "cell_type": "code",
   "execution_count": 7,
   "metadata": {
    "collapsed": true
   },
   "outputs": [],
   "source": [
    "X = DBTalis\n",
    "X= X.dropna()\n",
    "X_std = StandardScaler().fit_transform(X)"
   ]
  },
  {
   "cell_type": "code",
   "execution_count": 27,
   "metadata": {
    "collapsed": false
   },
   "outputs": [],
   "source": [
    "sklearn_pca = sklearnPCA(n_components=3)\n",
    "Y_sklearn = sklearn_pca.fit_transform(X_std)"
   ]
  },
  {
   "cell_type": "code",
   "execution_count": 28,
   "metadata": {
    "collapsed": true
   },
   "outputs": [],
   "source": [
    "maxDBPisa=DBPisa.max()\n",
    "minDBPisa=DBPisa.min()"
   ]
  },
  {
   "cell_type": "code",
   "execution_count": 65,
   "metadata": {
    "collapsed": false
   },
   "outputs": [
    {
     "name": "stdout",
     "output_type": "stream",
     "text": [
      "[[-0.24333792 -0.32558188 -0.23585826 -0.12969598 -0.20148294  0.05177964\n",
      "  -0.234052    0.15999069 -0.01269383  0.22659865  0.33211095  0.17454673\n",
      "   0.05107937  0.04654602  0.26627067  0.14917021  0.21626985  0.11013657\n",
      "   0.11074444  0.11119976  0.03735587  0.01534012  0.27938409  0.24386697\n",
      "  -0.28281166 -0.04998291 -0.09667796  0.16359195 -0.0848518 ]\n",
      " [ 0.13913872 -0.05979151 -0.05382999 -0.23942087  0.2778574  -0.25665812\n",
      "   0.15347208 -0.17473873  0.0511267  -0.14862022 -0.05798402 -0.25304269\n",
      "  -0.07835626  0.05507113  0.2005652   0.19896721  0.10924276 -0.13329419\n",
      "  -0.09617877  0.31157654 -0.11704404  0.07218594  0.28185214  0.14193587\n",
      "  -0.21938053  0.27883602  0.30756721 -0.14771612  0.20438997]\n",
      " [-0.15939229  0.03945046 -0.08857257 -0.07118459 -0.12837888 -0.00330997\n",
      "  -0.24247278 -0.28604569 -0.2714068  -0.07497999 -0.05546848 -0.25048514\n",
      "  -0.30657528  0.22643526  0.13355599 -0.32826437 -0.13309404 -0.14783675\n",
      "  -0.24574931 -0.18252035 -0.04046091  0.03017883 -0.01637873  0.25436311\n",
      "  -0.17063065 -0.17375682 -0.1681021  -0.28542467 -0.13127933]]\n"
     ]
    }
   ],
   "source": [
    "vectors = sklearn_pca.components_\n",
    "print(vectors)"
   ]
  },
  {
   "cell_type": "code",
   "execution_count": 79,
   "metadata": {
    "collapsed": false
   },
   "outputs": [],
   "source": [
    "argsort_v1=np.argsort(-np.abs(vectors[1,:]))"
   ]
  },
  {
   "cell_type": "code",
   "execution_count": 80,
   "metadata": {
    "collapsed": false
   },
   "outputs": [],
   "source": [
    "colnames = np.array(['vTPercentFem','vTAge','vTYExp','vTPercentCompleteTrain','vTPercentFemPrincipals','vTAgePrincipals','vTYExpPrincipals','vTBelieveProfValInSocPrincipals','vTSatisfPrincipals','vTFI','vTMentor','vTMentorToOther','vTProfDev','vTNeedICT','vTNeedSN','vTFB1','vTFB2','vTEvalSchool','vTEvalClass','vTtimepW','vTtimePrep','vTTime1','vTTime2','vTTime3','vtTimeTeaching','vTBelieveHelpStudentsValueLearning','vTBelieveHelpStudentsThinkCritic','vTBelieveProfValInSoc','vTSatisf'])"
   ]
  },
  {
   "cell_type": "code",
   "execution_count": 81,
   "metadata": {
    "collapsed": false
   },
   "outputs": [
    {
     "name": "stdout",
     "output_type": "stream",
     "text": [
      "Feature  0 of vector 1:  vTtimepW , importance coeff = 0.311576539472\n",
      "Feature  1 of vector 1:  vTBelieveHelpStudentsThinkCritic , importance coeff = 0.307567210217\n",
      "Feature  2 of vector 1:  vTTime2 , importance coeff = 0.281852140385\n",
      "Feature  3 of vector 1:  vTBelieveHelpStudentsValueLearning , importance coeff = 0.278836016558\n",
      "Feature  4 of vector 1:  vTPercentFemPrincipals , importance coeff = 0.277857395358\n",
      "Feature  5 of vector 1:  vTAgePrincipals , importance coeff = -0.256658124708\n",
      "Feature  6 of vector 1:  vTMentorToOther , importance coeff = -0.253042688615\n",
      "Feature  7 of vector 1:  vTPercentCompleteTrain , importance coeff = -0.239420871761\n",
      "Feature  8 of vector 1:  vtTimeTeaching , importance coeff = -0.219380532865\n",
      "Feature  9 of vector 1:  vTSatisf , importance coeff = 0.204389970317\n"
     ]
    }
   ],
   "source": [
    "#display the 10 first features for the vector #2 in terms of importance\n",
    "for i in range(10):\n",
    "    print(\"Feature \", i, \"of vector 1: \", colnames[argsort_v1[i]], \", importance coeff =\", vectors[1, np.where( colnames ==colnames[argsort_v1[i]] )[0][0]])"
   ]
  },
  {
   "cell_type": "code",
   "execution_count": 83,
   "metadata": {
    "collapsed": false
   },
   "outputs": [
    {
     "name": "stdout",
     "output_type": "stream",
     "text": [
      "Feature  0 of vector 0:  vTMentor , importance coeff = 0.33211095087\n",
      "Feature  1 of vector 0:  vTAge , importance coeff = -0.325581878297\n",
      "Feature  2 of vector 0:  vtTimeTeaching , importance coeff = -0.282811662957\n",
      "Feature  3 of vector 0:  vTTime2 , importance coeff = 0.279384089803\n",
      "Feature  4 of vector 0:  vTNeedSN , importance coeff = 0.266270673853\n",
      "Feature  5 of vector 0:  vTTime3 , importance coeff = 0.243866966742\n",
      "Feature  6 of vector 0:  vTPercentFem , importance coeff = -0.243337919504\n",
      "Feature  7 of vector 0:  vTYExp , importance coeff = -0.235858256883\n",
      "Feature  8 of vector 0:  vTYExpPrincipals , importance coeff = -0.234051997076\n",
      "Feature  9 of vector 0:  vTFI , importance coeff = 0.226598648615\n"
     ]
    }
   ],
   "source": [
    "argsort_v0=np.argsort(-np.abs(vectors[0,:]))\n",
    "#display the 10 first features for the vector #2 in terms of importance\n",
    "for i in range(10):\n",
    "    print(\"Feature \", i, \"of vector 0: \", colnames[argsort_v0[i]], \", importance coeff =\", vectors[0, np.where( colnames ==colnames[argsort_v0[i]] )[0][0]])"
   ]
  },
  {
   "cell_type": "code",
   "execution_count": null,
   "metadata": {
    "collapsed": true
   },
   "outputs": [],
   "source": []
  },
  {
   "cell_type": "code",
   "execution_count": null,
   "metadata": {
    "collapsed": true
   },
   "outputs": [],
   "source": []
  },
  {
   "cell_type": "code",
   "execution_count": null,
   "metadata": {
    "collapsed": true
   },
   "outputs": [],
   "source": []
  },
  {
   "cell_type": "code",
   "execution_count": 87,
   "metadata": {
    "collapsed": false
   },
   "outputs": [
    {
     "data": {
      "text/plain": [
       "array([ 6.21614016,  4.74133369,  3.68113903])"
      ]
     },
     "execution_count": 87,
     "metadata": {},
     "output_type": "execute_result"
    }
   ],
   "source": [
    "sklearn_pca.explained_variance_"
   ]
  },
  {
   "cell_type": "code",
   "execution_count": 89,
   "metadata": {
    "collapsed": false
   },
   "outputs": [
    {
     "data": {
      "text/plain": [
       "0.16348275862068964"
      ]
     },
     "execution_count": 89,
     "metadata": {},
     "output_type": "execute_result"
    }
   ],
   "source": [
    "4.741/29"
   ]
  },
  {
   "cell_type": "code",
   "execution_count": 32,
   "metadata": {
    "collapsed": false
   },
   "outputs": [
    {
     "data": {
      "text/plain": [
       "PCA(copy=True, n_components=3, whiten=False)"
      ]
     },
     "execution_count": 32,
     "metadata": {},
     "output_type": "execute_result"
    }
   ],
   "source": [
    "sklearn_pca"
   ]
  },
  {
   "cell_type": "code",
   "execution_count": 33,
   "metadata": {
    "collapsed": false
   },
   "outputs": [
    {
     "name": "stdout",
     "output_type": "stream",
     "text": [
      "Help on PCA in module sklearn.decomposition.pca object:\n",
      "\n",
      "class PCA(sklearn.base.BaseEstimator, sklearn.base.TransformerMixin)\n",
      " |  Principal component analysis (PCA)\n",
      " |  \n",
      " |  Linear dimensionality reduction using Singular Value Decomposition of the\n",
      " |  data and keeping only the most significant singular vectors to project the\n",
      " |  data to a lower dimensional space.\n",
      " |  \n",
      " |  This implementation uses the scipy.linalg implementation of the singular\n",
      " |  value decomposition. It only works for dense arrays and is not scalable to\n",
      " |  large dimensional data.\n",
      " |  \n",
      " |  The time complexity of this implementation is ``O(n ** 3)`` assuming\n",
      " |  n ~ n_samples ~ n_features.\n",
      " |  \n",
      " |  Read more in the :ref:`User Guide <PCA>`.\n",
      " |  \n",
      " |  Parameters\n",
      " |  ----------\n",
      " |  n_components : int, None or string\n",
      " |      Number of components to keep.\n",
      " |      if n_components is not set all components are kept::\n",
      " |  \n",
      " |          n_components == min(n_samples, n_features)\n",
      " |  \n",
      " |      if n_components == 'mle', Minka's MLE is used to guess the dimension\n",
      " |      if ``0 < n_components < 1``, select the number of components such that\n",
      " |      the amount of variance that needs to be explained is greater than the\n",
      " |      percentage specified by n_components\n",
      " |  \n",
      " |  copy : bool\n",
      " |      If False, data passed to fit are overwritten and running\n",
      " |      fit(X).transform(X) will not yield the expected results,\n",
      " |      use fit_transform(X) instead.\n",
      " |  \n",
      " |  whiten : bool, optional\n",
      " |      When True (False by default) the `components_` vectors are divided\n",
      " |      by n_samples times singular values to ensure uncorrelated outputs\n",
      " |      with unit component-wise variances.\n",
      " |  \n",
      " |      Whitening will remove some information from the transformed signal\n",
      " |      (the relative variance scales of the components) but can sometime\n",
      " |      improve the predictive accuracy of the downstream estimators by\n",
      " |      making there data respect some hard-wired assumptions.\n",
      " |  \n",
      " |  Attributes\n",
      " |  ----------\n",
      " |  components_ : array, [n_components, n_features]\n",
      " |      Principal axes in feature space, representing the directions of\n",
      " |      maximum variance in the data.\n",
      " |  \n",
      " |  explained_variance_ratio_ : array, [n_components]\n",
      " |      Percentage of variance explained by each of the selected components.\n",
      " |      If ``n_components`` is not set then all components are stored and the\n",
      " |      sum of explained variances is equal to 1.0\n",
      " |  \n",
      " |  mean_ : array, [n_features]\n",
      " |      Per-feature empirical mean, estimated from the training set.\n",
      " |  \n",
      " |  n_components_ : int\n",
      " |      The estimated number of components. Relevant when n_components is set\n",
      " |      to 'mle' or a number between 0 and 1 to select using explained\n",
      " |      variance.\n",
      " |  \n",
      " |  noise_variance_ : float\n",
      " |      The estimated noise covariance following the Probabilistic PCA model\n",
      " |      from Tipping and Bishop 1999. See \"Pattern Recognition and\n",
      " |      Machine Learning\" by C. Bishop, 12.2.1 p. 574 or\n",
      " |      http://www.miketipping.com/papers/met-mppca.pdf. It is required to\n",
      " |      computed the estimated data covariance and score samples.\n",
      " |  \n",
      " |  Notes\n",
      " |  -----\n",
      " |  For n_components='mle', this class uses the method of `Thomas P. Minka:\n",
      " |  Automatic Choice of Dimensionality for PCA. NIPS 2000: 598-604`\n",
      " |  \n",
      " |  Implements the probabilistic PCA model from:\n",
      " |  M. Tipping and C. Bishop, Probabilistic Principal Component Analysis,\n",
      " |  Journal of the Royal Statistical Society, Series B, 61, Part 3, pp. 611-622\n",
      " |  via the score and score_samples methods.\n",
      " |  See http://www.miketipping.com/papers/met-mppca.pdf\n",
      " |  \n",
      " |  Due to implementation subtleties of the Singular Value Decomposition (SVD),\n",
      " |  which is used in this implementation, running fit twice on the same matrix\n",
      " |  can lead to principal components with signs flipped (change in direction).\n",
      " |  For this reason, it is important to always use the same estimator object to\n",
      " |  transform data in a consistent fashion.\n",
      " |  \n",
      " |  Examples\n",
      " |  --------\n",
      " |  \n",
      " |  >>> import numpy as np\n",
      " |  >>> from sklearn.decomposition import PCA\n",
      " |  >>> X = np.array([[-1, -1], [-2, -1], [-3, -2], [1, 1], [2, 1], [3, 2]])\n",
      " |  >>> pca = PCA(n_components=2)\n",
      " |  >>> pca.fit(X)\n",
      " |  PCA(copy=True, n_components=2, whiten=False)\n",
      " |  >>> print(pca.explained_variance_ratio_) # doctest: +ELLIPSIS\n",
      " |  [ 0.99244...  0.00755...]\n",
      " |  \n",
      " |  See also\n",
      " |  --------\n",
      " |  RandomizedPCA\n",
      " |  KernelPCA\n",
      " |  SparsePCA\n",
      " |  TruncatedSVD\n",
      " |  \n",
      " |  Method resolution order:\n",
      " |      PCA\n",
      " |      sklearn.base.BaseEstimator\n",
      " |      sklearn.base.TransformerMixin\n",
      " |      builtins.object\n",
      " |  \n",
      " |  Methods defined here:\n",
      " |  \n",
      " |  __init__(self, n_components=None, copy=True, whiten=False)\n",
      " |      Initialize self.  See help(type(self)) for accurate signature.\n",
      " |  \n",
      " |  fit(self, X, y=None)\n",
      " |      Fit the model with X.\n",
      " |      \n",
      " |      Parameters\n",
      " |      ----------\n",
      " |      X: array-like, shape (n_samples, n_features)\n",
      " |          Training data, where n_samples in the number of samples\n",
      " |          and n_features is the number of features.\n",
      " |      \n",
      " |      Returns\n",
      " |      -------\n",
      " |      self : object\n",
      " |          Returns the instance itself.\n",
      " |  \n",
      " |  fit_transform(self, X, y=None)\n",
      " |      Fit the model with X and apply the dimensionality reduction on X.\n",
      " |      \n",
      " |      Parameters\n",
      " |      ----------\n",
      " |      X : array-like, shape (n_samples, n_features)\n",
      " |          Training data, where n_samples is the number of samples\n",
      " |          and n_features is the number of features.\n",
      " |      \n",
      " |      Returns\n",
      " |      -------\n",
      " |      X_new : array-like, shape (n_samples, n_components)\n",
      " |  \n",
      " |  get_covariance(self)\n",
      " |      Compute data covariance with the generative model.\n",
      " |      \n",
      " |      ``cov = components_.T * S**2 * components_ + sigma2 * eye(n_features)``\n",
      " |      where  S**2 contains the explained variances.\n",
      " |      \n",
      " |      Returns\n",
      " |      -------\n",
      " |      cov : array, shape=(n_features, n_features)\n",
      " |          Estimated covariance of data.\n",
      " |  \n",
      " |  get_precision(self)\n",
      " |      Compute data precision matrix with the generative model.\n",
      " |      \n",
      " |      Equals the inverse of the covariance but computed with\n",
      " |      the matrix inversion lemma for efficiency.\n",
      " |      \n",
      " |      Returns\n",
      " |      -------\n",
      " |      precision : array, shape=(n_features, n_features)\n",
      " |          Estimated precision of data.\n",
      " |  \n",
      " |  inverse_transform(self, X)\n",
      " |      Transform data back to its original space, i.e.,\n",
      " |      return an input X_original whose transform would be X\n",
      " |      \n",
      " |      Parameters\n",
      " |      ----------\n",
      " |      X : array-like, shape (n_samples, n_components)\n",
      " |          New data, where n_samples is the number of samples\n",
      " |          and n_components is the number of components.\n",
      " |      \n",
      " |      Returns\n",
      " |      -------\n",
      " |      X_original array-like, shape (n_samples, n_features)\n",
      " |  \n",
      " |  score(self, X, y=None)\n",
      " |      Return the average log-likelihood of all samples\n",
      " |      \n",
      " |      See. \"Pattern Recognition and Machine Learning\"\n",
      " |      by C. Bishop, 12.2.1 p. 574\n",
      " |      or http://www.miketipping.com/papers/met-mppca.pdf\n",
      " |      \n",
      " |      Parameters\n",
      " |      ----------\n",
      " |      X: array, shape(n_samples, n_features)\n",
      " |          The data.\n",
      " |      \n",
      " |      Returns\n",
      " |      -------\n",
      " |      ll: float\n",
      " |          Average log-likelihood of the samples under the current model\n",
      " |  \n",
      " |  score_samples(self, X)\n",
      " |      Return the log-likelihood of each sample\n",
      " |      \n",
      " |      See. \"Pattern Recognition and Machine Learning\"\n",
      " |      by C. Bishop, 12.2.1 p. 574\n",
      " |      or http://www.miketipping.com/papers/met-mppca.pdf\n",
      " |      \n",
      " |      Parameters\n",
      " |      ----------\n",
      " |      X: array, shape(n_samples, n_features)\n",
      " |          The data.\n",
      " |      \n",
      " |      Returns\n",
      " |      -------\n",
      " |      ll: array, shape (n_samples,)\n",
      " |          Log-likelihood of each sample under the current model\n",
      " |  \n",
      " |  transform(self, X)\n",
      " |      Apply the dimensionality reduction on X.\n",
      " |      \n",
      " |      X is projected on the first principal components previous extracted\n",
      " |      from a training set.\n",
      " |      \n",
      " |      Parameters\n",
      " |      ----------\n",
      " |      X : array-like, shape (n_samples, n_features)\n",
      " |          New data, where n_samples is the number of samples\n",
      " |          and n_features is the number of features.\n",
      " |      \n",
      " |      Returns\n",
      " |      -------\n",
      " |      X_new : array-like, shape (n_samples, n_components)\n",
      " |  \n",
      " |  ----------------------------------------------------------------------\n",
      " |  Methods inherited from sklearn.base.BaseEstimator:\n",
      " |  \n",
      " |  __repr__(self)\n",
      " |      Return repr(self).\n",
      " |  \n",
      " |  get_params(self, deep=True)\n",
      " |      Get parameters for this estimator.\n",
      " |      \n",
      " |      Parameters\n",
      " |      ----------\n",
      " |      deep: boolean, optional\n",
      " |          If True, will return the parameters for this estimator and\n",
      " |          contained subobjects that are estimators.\n",
      " |      \n",
      " |      Returns\n",
      " |      -------\n",
      " |      params : mapping of string to any\n",
      " |          Parameter names mapped to their values.\n",
      " |  \n",
      " |  set_params(self, **params)\n",
      " |      Set the parameters of this estimator.\n",
      " |      \n",
      " |      The method works on simple estimators as well as on nested objects\n",
      " |      (such as pipelines). The former have parameters of the form\n",
      " |      ``<component>__<parameter>`` so that it's possible to update each\n",
      " |      component of a nested object.\n",
      " |      \n",
      " |      Returns\n",
      " |      -------\n",
      " |      self\n",
      " |  \n",
      " |  ----------------------------------------------------------------------\n",
      " |  Data descriptors inherited from sklearn.base.BaseEstimator:\n",
      " |  \n",
      " |  __dict__\n",
      " |      dictionary for instance variables (if defined)\n",
      " |  \n",
      " |  __weakref__\n",
      " |      list of weak references to the object (if defined)\n",
      "\n"
     ]
    }
   ],
   "source": [
    "help(sklearn_pca)"
   ]
  },
  {
   "cell_type": "code",
   "execution_count": 37,
   "metadata": {
    "collapsed": false
   },
   "outputs": [
    {
     "name": "stdout",
     "output_type": "stream",
     "text": [
      "0.17.1\n"
     ]
    }
   ],
   "source": [
    "import sklearn\n",
    "print(sklearn.__version__)\n"
   ]
  },
  {
   "cell_type": "code",
   "execution_count": 96,
   "metadata": {
    "collapsed": false
   },
   "outputs": [
    {
     "data": {
      "text/plain": [
       "location\n",
       "AUS     18.6\n",
       "BRA     25.4\n",
       "CHL     26.7\n",
       "CZE     17.8\n",
       "DNK     18.9\n",
       "ESP     18.6\n",
       "EST     20.9\n",
       "FIN     20.6\n",
       "FRA     18.6\n",
       "ISL     19.0\n",
       "ISR     18.3\n",
       "ITA     17.3\n",
       "JPN     17.7\n",
       "KOR     18.8\n",
       "LVA     19.2\n",
       "MEX     22.7\n",
       "NLD     16.9\n",
       "NOR     15.0\n",
       "NZL     18.0\n",
       "OAVG    19.2\n",
       "POL     18.6\n",
       "PRT     20.8\n",
       "RUS     23.6\n",
       "SVK     19.9\n",
       "SWE     17.6\n",
       "Name: vTtimepW, dtype: float64"
      ]
     },
     "execution_count": 96,
     "metadata": {},
     "output_type": "execute_result"
    }
   ],
   "source": [
    "X['vTtimepW']"
   ]
  },
  {
   "cell_type": "code",
   "execution_count": null,
   "metadata": {
    "collapsed": true
   },
   "outputs": [],
   "source": []
  },
  {
   "cell_type": "code",
   "execution_count": null,
   "metadata": {
    "collapsed": true
   },
   "outputs": [],
   "source": []
  }
 ],
 "metadata": {
  "kernelspec": {
   "display_name": "Python 3",
   "language": "python",
   "name": "python3"
  },
  "language_info": {
   "codemirror_mode": {
    "name": "ipython",
    "version": 3
   },
   "file_extension": ".py",
   "mimetype": "text/x-python",
   "name": "python",
   "nbconvert_exporter": "python",
   "pygments_lexer": "ipython3",
   "version": "3.5.1"
  }
 },
 "nbformat": 4,
 "nbformat_minor": 0
}
